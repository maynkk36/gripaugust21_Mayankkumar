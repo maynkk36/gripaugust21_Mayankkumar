{
 "cells": [
  {
   "cell_type": "code",
   "execution_count": null,
   "id": "5aef9672",
   "metadata": {},
   "outputs": [],
   "source": [
    "# Mayank kumar\n",
    "#The Sparks Foundation\n",
    "#gripaug21\n",
    "import cv2 as cv\n",
    "import numpy as np\n"
   ]
  },
  {
   "cell_type": "code",
   "execution_count": null,
   "id": "8ec33bc5",
   "metadata": {},
   "outputs": [],
   "source": [
    "thres = 0.45\n",
    "nms_threshold = 0.2"
   ]
  },
  {
   "cell_type": "code",
   "execution_count": null,
   "id": "908c0e59",
   "metadata": {},
   "outputs": [],
   "source": [
    "#Default Camera Capture\n",
    "cap = cv.VideoCapture(0)\n",
    "cap.set(3, 1280)\n",
    "cap.set(4, 720)\n",
    "cap.set(10, 150)"
   ]
  },
  {
   "cell_type": "code",
   "execution_count": null,
   "id": "7935c907",
   "metadata": {},
   "outputs": [],
   "source": [
    "##Importing the COCO dataset in a list\n",
    "classNames= []\n",
    "classFile = 'C:/Users/Dell/OneDrive/Pictures/Labels.txt'\n",
    "with open(classFile,'rt') as f:\n",
    "    classNames = f.read().rstrip('\\n').split('\\n')\n"
   ]
  },
  {
   "cell_type": "code",
   "execution_count": null,
   "id": "0b2bbee8",
   "metadata": {},
   "outputs": [],
   "source": [
    "print(classNames)"
   ]
  },
  {
   "cell_type": "code",
   "execution_count": null,
   "id": "ae0d6e96",
   "metadata": {},
   "outputs": [],
   "source": [
    "config_file = 'C:/Users/Dell/OneDrive/Pictures/ssd_mobilenet_v3_large_coco_2020_01_14.pbtxt'\n",
    "frozen_model = 'C:/Users/Dell/OneDrive/Pictures/frozen_inference_graph.pb'"
   ]
  },
  {
   "cell_type": "code",
   "execution_count": null,
   "id": "4c2d24ea",
   "metadata": {},
   "outputs": [],
   "source": [
    "net = cv.dnn_DetectionModel(frozen_model,config_file)\n",
    "net.setInputSize(320, 320)\n",
    "net.setInputScale(1.0 / 127.5)\n",
    "net.setInputMean((127.5, 127.5, 127.5))\n",
    "net.setInputSwapRB(True)\n"
   ]
  },
  {
   "cell_type": "code",
   "execution_count": null,
   "id": "88d76779",
   "metadata": {},
   "outputs": [],
   "source": [
    "while True:\n",
    "    success, img = cap.read()\n",
    "    classIds, confs, bbox = net.detect(img, confThreshold=thres)\n",
    "    bbox = list(bbox)\n",
    "    confs = list(np.array(confs).reshape(1, -1)[0])\n",
    "    confs = list(map(float, confs))\n",
    "\n",
    "    indices = cv.dnn.NMSBoxes(bbox, confs, thres, nms_threshold)\n",
    "\n",
    "    for i in indices:\n",
    "        i = i[0]\n",
    "        box = bbox[i]\n",
    "        x, y, w, h = box[0], box[1], box[2], box[3]\n",
    "        cv.rectangle(img, (x, y),(x+w, h+y), color=(0, 255, 0), thickness=2)\n",
    "        cv.putText(img,classNames[classIds[i][0]-1].upper(), (box[0]+10, box[1]+30),\n",
    "                    cv.FONT_HERSHEY_COMPLEX, 1, (0, 255, 255), 2)\n",
    "\n",
    "    cv.imshow(\"Output\", img)\n",
    "    if cv.waitKey(1) & 0xFF == ord('q'):\n",
    "        break\n",
    "cap.release()\n",
    "cv2.destroyAllWindows()"
   ]
  },
  {
   "cell_type": "code",
   "execution_count": null,
   "id": "9c1c4309",
   "metadata": {},
   "outputs": [],
   "source": []
  }
 ],
 "metadata": {
  "kernelspec": {
   "display_name": "Python 3",
   "language": "python",
   "name": "python3"
  },
  "language_info": {
   "codemirror_mode": {
    "name": "ipython",
    "version": 3
   },
   "file_extension": ".py",
   "mimetype": "text/x-python",
   "name": "python",
   "nbconvert_exporter": "python",
   "pygments_lexer": "ipython3",
   "version": "3.8.8"
  }
 },
 "nbformat": 4,
 "nbformat_minor": 5
}
